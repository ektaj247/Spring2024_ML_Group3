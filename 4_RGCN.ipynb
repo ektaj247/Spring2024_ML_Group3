{
 "cells": [
  {
   "cell_type": "code",
   "execution_count": 7,
   "id": "4341036e-6c91-4af6-a5a4-070c6496447d",
   "metadata": {},
   "outputs": [],
   "source": [
    "import pandas as pd"
   ]
  },
  {
   "cell_type": "code",
   "execution_count": 8,
   "id": "20f422a4-00d6-42bc-bcc5-3d1ad7f1cded",
   "metadata": {},
   "outputs": [],
   "source": [
    "# Load the dataset\n",
    "df = pd.read_csv('reduced_data.csv')"
   ]
  },
  {
   "cell_type": "code",
   "execution_count": 17,
   "id": "d6b75c86-5a66-4528-8c38-5c3522413216",
   "metadata": {},
   "outputs": [
    {
     "name": "stdout",
     "output_type": "stream",
     "text": [
      "Epoch: 0, Loss: 0.7242, Metrics: Acc: 0.2550, Prec: 0.4851, Recall: 0.6333, F1: 0.4976, AUC-ROC: 0.5086\n",
      "Epoch: 10, Loss: 0.6672, Metrics: Acc: 0.3600, Prec: 0.6581, Recall: 0.3886, F1: 0.4632, AUC-ROC: 0.6424\n",
      "Epoch: 20, Loss: 0.6441, Metrics: Acc: 0.3850, Prec: 0.6461, Recall: 0.5002, F1: 0.5496, AUC-ROC: 0.6838\n",
      "Epoch: 30, Loss: 0.6193, Metrics: Acc: 0.4200, Prec: 0.6643, Recall: 0.5438, F1: 0.5885, AUC-ROC: 0.7261\n",
      "Epoch: 40, Loss: 0.5895, Metrics: Acc: 0.4900, Prec: 0.7254, Recall: 0.5603, F1: 0.6285, AUC-ROC: 0.7635\n",
      "Epoch: 50, Loss: 0.5563, Metrics: Acc: 0.5650, Prec: 0.7479, Recall: 0.6843, F1: 0.7142, AUC-ROC: 0.7974\n",
      "Epoch: 60, Loss: 0.5200, Metrics: Acc: 0.6050, Prec: 0.7871, Recall: 0.7163, F1: 0.7498, AUC-ROC: 0.8291\n",
      "Epoch: 70, Loss: 0.4838, Metrics: Acc: 0.6400, Prec: 0.7923, Recall: 0.7589, F1: 0.7751, AUC-ROC: 0.8554\n",
      "Epoch: 80, Loss: 0.4463, Metrics: Acc: 0.6600, Prec: 0.8160, Recall: 0.7805, F1: 0.7974, AUC-ROC: 0.8855\n",
      "Epoch: 90, Loss: 0.4089, Metrics: Acc: 0.7150, Prec: 0.8452, Recall: 0.8073, F1: 0.8251, AUC-ROC: 0.9074\n",
      "Epoch: 100, Loss: 0.3704, Metrics: Acc: 0.7300, Prec: 0.8581, Recall: 0.8238, F1: 0.8401, AUC-ROC: 0.9304\n",
      "Epoch: 110, Loss: 0.3326, Metrics: Acc: 0.7600, Prec: 0.8717, Recall: 0.8564, F1: 0.8638, AUC-ROC: 0.9469\n",
      "Epoch: 120, Loss: 0.2970, Metrics: Acc: 0.7850, Prec: 0.8788, Recall: 0.8829, F1: 0.8808, AUC-ROC: 0.9597\n",
      "Epoch: 130, Loss: 0.2646, Metrics: Acc: 0.8150, Prec: 0.8938, Recall: 0.8938, F1: 0.8938, AUC-ROC: 0.9698\n",
      "Epoch: 140, Loss: 0.2337, Metrics: Acc: 0.8400, Prec: 0.9153, Recall: 0.9097, F1: 0.9124, AUC-ROC: 0.9775\n",
      "Epoch: 150, Loss: 0.2058, Metrics: Acc: 0.8600, Prec: 0.9311, Recall: 0.9206, F1: 0.9258, AUC-ROC: 0.9842\n",
      "Epoch: 160, Loss: 0.1806, Metrics: Acc: 0.9100, Prec: 0.9474, Recall: 0.9522, F1: 0.9498, AUC-ROC: 0.9887\n",
      "Epoch: 170, Loss: 0.1569, Metrics: Acc: 0.9150, Prec: 0.9487, Recall: 0.9626, F1: 0.9554, AUC-ROC: 0.9925\n",
      "Epoch: 180, Loss: 0.1361, Metrics: Acc: 0.9400, Prec: 0.9591, Recall: 0.9790, F1: 0.9690, AUC-ROC: 0.9948\n",
      "Epoch: 190, Loss: 0.1176, Metrics: Acc: 0.9600, Prec: 0.9747, Recall: 0.9845, F1: 0.9796, AUC-ROC: 0.9974\n",
      "Final Evaluation Metrics: {'accuracy': 0.975, 'precision': 0.9846938775510203, 'recall': 0.9896907216494846, 'f1': 0.9871794871794872, 'auc_roc': 0.9982484235812231}\n"
     ]
    }
   ],
   "source": [
    "import torch\n",
    "from torch_geometric.data import HeteroData\n",
    "from torch_geometric.nn import RGCNConv\n",
    "import torch.nn.functional as F\n",
    "from torch.nn import Linear\n",
    "from sklearn.metrics import accuracy_score, precision_score, recall_score, f1_score, roc_auc_score\n",
    "\n",
    "# Define the graph data\n",
    "data = HeteroData()\n",
    "\n",
    "# Assuming num_nodes = 200\n",
    "data['patient'].x = torch.randn(200, 6)  # Features: BMI, Sex, Age, PhysHlth, MentHlth, GenHlth\n",
    "data['patient'].y = torch.randint(0, 2, (200, 2))  # Labels: Diabetic, HeartDisease\n",
    "\n",
    "# Define edges with edge types; simple example: each node is self-connected\n",
    "edge_index = torch.tensor([[i, i] for i in range(200)], dtype=torch.long).t()\n",
    "edge_type = torch.full((edge_index.size(1),), 0, dtype=torch.long)  # Single relation type\n",
    "data['patient', 'relates', 'patient'].edge_index = edge_index\n",
    "data['patient', 'relates', 'patient'].edge_type = edge_type\n",
    "\n",
    "# RGCN model definition for a homogeneous-like approach using heterogeneous API\n",
    "class HeteroRGCN(torch.nn.Module):\n",
    "    def __init__(self, hidden_channels):\n",
    "        super().__init__()\n",
    "        self.conv1 = RGCNConv(in_channels=6, out_channels=hidden_channels, num_relations=1)\n",
    "        self.conv2 = RGCNConv(in_channels=hidden_channels, out_channels=hidden_channels, num_relations=1)\n",
    "        self.out = Linear(hidden_channels, 2)\n",
    "\n",
    "    def forward(self, x_dict, edge_index_dict, edge_type_dict):\n",
    "        edge_index = edge_index_dict[('patient', 'relates', 'patient')]\n",
    "        edge_type = edge_type_dict[('patient', 'relates', 'patient')]\n",
    "        x = self.conv1(x_dict['patient'], edge_index, edge_type)\n",
    "        x = F.relu(x)\n",
    "        x = self.conv2(x, edge_index, edge_type)\n",
    "        x = F.relu(x)\n",
    "        out = self.out(x)\n",
    "        return out\n",
    "\n",
    "model = HeteroRGCN(hidden_channels=16)\n",
    "optimizer = torch.optim.Adam(model.parameters(), lr=0.005)\n",
    "criterion = torch.nn.BCEWithLogitsLoss()\n",
    "\n",
    "# Training function\n",
    "def train():\n",
    "    model.train()\n",
    "    optimizer.zero_grad()\n",
    "    out = model(data.x_dict, data.edge_index_dict, data.edge_type_dict)\n",
    "    loss = criterion(out, data['patient'].y.float())\n",
    "    loss.backward()\n",
    "    optimizer.step()\n",
    "    return loss.item()\n",
    "\n",
    "# Extended evaluation function including multiple metrics\n",
    "def evaluate():\n",
    "    model.eval()\n",
    "    with torch.no_grad():\n",
    "        out = model(data.x_dict, data.edge_index_dict, data.edge_type_dict)\n",
    "        y_pred_prob = torch.sigmoid(out).numpy()\n",
    "        y_pred = y_pred_prob > 0.5\n",
    "        y_true = data['patient'].y.numpy()\n",
    "\n",
    "        accuracy = accuracy_score(y_true, y_pred)\n",
    "        precision = precision_score(y_true, y_pred, average='macro')\n",
    "        recall = recall_score(y_true, y_pred, average='macro')\n",
    "        f1 = f1_score(y_true, y_pred, average='macro')\n",
    "        auc_roc = roc_auc_score(y_true, y_pred_prob, average='macro', multi_class='ovr')\n",
    "        \n",
    "        return {\n",
    "            'accuracy': accuracy,\n",
    "            'precision': precision,\n",
    "            'recall': recall,\n",
    "            'f1': f1,\n",
    "            'auc_roc': auc_roc\n",
    "        }\n",
    "# Training the model\n",
    "for epoch in range(200):\n",
    "    loss = train()\n",
    "    if epoch % 10 == 0:\n",
    "        metrics = evaluate()\n",
    "        print(f\"Epoch: {epoch}, Loss: {loss:.4f}, Metrics: Acc: {metrics['accuracy']:.4f}, \"\n",
    "              f\"Prec: {metrics['precision']:.4f}, Recall: {metrics['recall']:.4f}, \"\n",
    "              f\"F1: {metrics['f1']:.4f}, AUC-ROC: {metrics['auc_roc']:.4f}\")\n",
    "\n",
    "\n",
    "# Final evaluation\n",
    "final_metrics = evaluate()\n",
    "print(f'Final Evaluation Metrics: {final_metrics}')\n"
   ]
  },
  {
   "cell_type": "code",
   "execution_count": 20,
   "id": "6e6b3506-7eee-4458-bb1f-1126b3c5a95c",
   "metadata": {},
   "outputs": [
    {
     "name": "stdout",
     "output_type": "stream",
     "text": [
      "Predicted probabilities: [[0.99999976 0.69459677]]\n",
      "Predicted classes (0: No, 1: Yes): [[1 1]]\n"
     ]
    }
   ],
   "source": [
    "# New patient data (assuming the same feature size)\n",
    "new_patient_features = torch.randn(1, 6)  # Random features for the example\n",
    "\n",
    "# Define self-connection for the new patient\n",
    "new_edge_index = torch.tensor([[0, 0]], dtype=torch.long).t()\n",
    "new_edge_type = torch.tensor([0], dtype=torch.long)  # Assuming the same edge type as others\n",
    "\n",
    "# Update model input format\n",
    "x_dict = {'patient': new_patient_features}\n",
    "edge_index_dict = {('patient', 'relates', 'patient'): new_edge_index}\n",
    "edge_type_dict = {('patient', 'relates', 'patient'): new_edge_type}\n",
    "\n",
    "# Prediction\n",
    "with torch.no_grad():\n",
    "    output = model(x_dict, edge_index_dict, edge_type_dict)\n",
    "    predicted_probabilities = torch.sigmoid(output)\n",
    "    predicted_classes = (predicted_probabilities > 0.5).int()\n",
    "\n",
    "print(\"Predicted probabilities:\", predicted_probabilities.numpy())\n",
    "print(\"Predicted classes (0: No, 1: Yes):\", predicted_classes.numpy())"
   ]
  },
  {
   "cell_type": "code",
   "execution_count": null,
   "id": "5e129a70-32c4-4ea5-8a52-d3e87be0c3d0",
   "metadata": {},
   "outputs": [],
   "source": []
  }
 ],
 "metadata": {
  "kernelspec": {
   "display_name": "Python 3 (ipykernel)",
   "language": "python",
   "name": "python3"
  },
  "language_info": {
   "codemirror_mode": {
    "name": "ipython",
    "version": 3
   },
   "file_extension": ".py",
   "mimetype": "text/x-python",
   "name": "python",
   "nbconvert_exporter": "python",
   "pygments_lexer": "ipython3",
   "version": "3.12.2"
  }
 },
 "nbformat": 4,
 "nbformat_minor": 5
}
