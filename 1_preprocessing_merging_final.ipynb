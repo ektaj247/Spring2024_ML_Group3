{
 "cells": [
  {
   "cell_type": "code",
   "execution_count": 80,
   "id": "6359d3ae-0145-4dc5-8d68-a529bea8a9b4",
   "metadata": {},
   "outputs": [],
   "source": [
    "import pandas as pd\n",
    "import matplotlib.pyplot as plt\n",
    "import seaborn as sns\n",
    "\n",
    "from sklearn.model_selection import train_test_split\n",
    "from sklearn.preprocessing import StandardScaler, OneHotEncoder\n",
    "from sklearn.compose import ColumnTransformer\n",
    "from sklearn.pipeline import Pipeline\n"
   ]
  },
  {
   "cell_type": "code",
   "execution_count": 81,
   "id": "95605fb9-62c9-47d0-bab2-cfa47fb7a186",
   "metadata": {},
   "outputs": [],
   "source": [
    "df1 = pd.read_csv(\"diabetes.csv\")\n",
    "df2 = pd.read_csv(\"heart.csv\")"
   ]
  },
  {
   "cell_type": "code",
   "execution_count": 82,
   "id": "3aa30320-74eb-488b-bb51-25bd458e09a5",
   "metadata": {},
   "outputs": [
    {
     "name": "stdout",
     "output_type": "stream",
     "text": [
      "   Diabetes_012  HighBP  HighChol  CholCheck   BMI  Smoker  Stroke  \\\n",
      "0           0.0     1.0       1.0        1.0  40.0     1.0     0.0   \n",
      "1           0.0     0.0       0.0        0.0  25.0     1.0     0.0   \n",
      "2           0.0     1.0       1.0        1.0  28.0     0.0     0.0   \n",
      "3           0.0     1.0       0.0        1.0  27.0     0.0     0.0   \n",
      "4           0.0     1.0       1.0        1.0  24.0     0.0     0.0   \n",
      "\n",
      "   HeartDiseaseorAttack  PhysActivity  Fruits  ...  AnyHealthcare  \\\n",
      "0                   0.0           0.0     0.0  ...            1.0   \n",
      "1                   0.0           1.0     0.0  ...            0.0   \n",
      "2                   0.0           0.0     1.0  ...            1.0   \n",
      "3                   0.0           1.0     1.0  ...            1.0   \n",
      "4                   0.0           1.0     1.0  ...            1.0   \n",
      "\n",
      "   NoDocbcCost  GenHlth  MentHlth  PhysHlth  DiffWalk  Sex   Age  Education  \\\n",
      "0          0.0      5.0      18.0      15.0       1.0  0.0   9.0        4.0   \n",
      "1          1.0      3.0       0.0       0.0       0.0  0.0   7.0        6.0   \n",
      "2          1.0      5.0      30.0      30.0       1.0  0.0   9.0        4.0   \n",
      "3          0.0      2.0       0.0       0.0       0.0  0.0  11.0        3.0   \n",
      "4          0.0      2.0       3.0       0.0       0.0  0.0  11.0        5.0   \n",
      "\n",
      "   Income  \n",
      "0     3.0  \n",
      "1     1.0  \n",
      "2     8.0  \n",
      "3     6.0  \n",
      "4     4.0  \n",
      "\n",
      "[5 rows x 22 columns]\n",
      "<class 'pandas.core.frame.DataFrame'>\n",
      "RangeIndex: 253680 entries, 0 to 253679\n",
      "Data columns (total 22 columns):\n",
      " #   Column                Non-Null Count   Dtype  \n",
      "---  ------                --------------   -----  \n",
      " 0   Diabetes_012          253680 non-null  float64\n",
      " 1   HighBP                253680 non-null  float64\n",
      " 2   HighChol              253680 non-null  float64\n",
      " 3   CholCheck             253680 non-null  float64\n",
      " 4   BMI                   253680 non-null  float64\n",
      " 5   Smoker                253680 non-null  float64\n",
      " 6   Stroke                253680 non-null  float64\n",
      " 7   HeartDiseaseorAttack  253680 non-null  float64\n",
      " 8   PhysActivity          253680 non-null  float64\n",
      " 9   Fruits                253680 non-null  float64\n",
      " 10  Veggies               253680 non-null  float64\n",
      " 11  HvyAlcoholConsump     253680 non-null  float64\n",
      " 12  AnyHealthcare         253680 non-null  float64\n",
      " 13  NoDocbcCost           253680 non-null  float64\n",
      " 14  GenHlth               253680 non-null  float64\n",
      " 15  MentHlth              253680 non-null  float64\n",
      " 16  PhysHlth              253680 non-null  float64\n",
      " 17  DiffWalk              253680 non-null  float64\n",
      " 18  Sex                   253680 non-null  float64\n",
      " 19  Age                   253680 non-null  float64\n",
      " 20  Education             253680 non-null  float64\n",
      " 21  Income                253680 non-null  float64\n",
      "dtypes: float64(22)\n",
      "memory usage: 42.6 MB\n",
      "None\n",
      "        Diabetes_012         HighBP       HighChol      CholCheck  \\\n",
      "count  253680.000000  253680.000000  253680.000000  253680.000000   \n",
      "mean        0.296921       0.429001       0.424121       0.962670   \n",
      "std         0.698160       0.494934       0.494210       0.189571   \n",
      "min         0.000000       0.000000       0.000000       0.000000   \n",
      "25%         0.000000       0.000000       0.000000       1.000000   \n",
      "50%         0.000000       0.000000       0.000000       1.000000   \n",
      "75%         0.000000       1.000000       1.000000       1.000000   \n",
      "max         2.000000       1.000000       1.000000       1.000000   \n",
      "\n",
      "                 BMI         Smoker         Stroke  HeartDiseaseorAttack  \\\n",
      "count  253680.000000  253680.000000  253680.000000         253680.000000   \n",
      "mean       28.382364       0.443169       0.040571              0.094186   \n",
      "std         6.608694       0.496761       0.197294              0.292087   \n",
      "min        12.000000       0.000000       0.000000              0.000000   \n",
      "25%        24.000000       0.000000       0.000000              0.000000   \n",
      "50%        27.000000       0.000000       0.000000              0.000000   \n",
      "75%        31.000000       1.000000       0.000000              0.000000   \n",
      "max        98.000000       1.000000       1.000000              1.000000   \n",
      "\n",
      "        PhysActivity         Fruits  ...  AnyHealthcare    NoDocbcCost  \\\n",
      "count  253680.000000  253680.000000  ...  253680.000000  253680.000000   \n",
      "mean        0.756544       0.634256  ...       0.951053       0.084177   \n",
      "std         0.429169       0.481639  ...       0.215759       0.277654   \n",
      "min         0.000000       0.000000  ...       0.000000       0.000000   \n",
      "25%         1.000000       0.000000  ...       1.000000       0.000000   \n",
      "50%         1.000000       1.000000  ...       1.000000       0.000000   \n",
      "75%         1.000000       1.000000  ...       1.000000       0.000000   \n",
      "max         1.000000       1.000000  ...       1.000000       1.000000   \n",
      "\n",
      "             GenHlth       MentHlth       PhysHlth       DiffWalk  \\\n",
      "count  253680.000000  253680.000000  253680.000000  253680.000000   \n",
      "mean        2.511392       3.184772       4.242081       0.168224   \n",
      "std         1.068477       7.412847       8.717951       0.374066   \n",
      "min         1.000000       0.000000       0.000000       0.000000   \n",
      "25%         2.000000       0.000000       0.000000       0.000000   \n",
      "50%         2.000000       0.000000       0.000000       0.000000   \n",
      "75%         3.000000       2.000000       3.000000       0.000000   \n",
      "max         5.000000      30.000000      30.000000       1.000000   \n",
      "\n",
      "                 Sex            Age      Education         Income  \n",
      "count  253680.000000  253680.000000  253680.000000  253680.000000  \n",
      "mean        0.440342       8.032119       5.050434       6.053875  \n",
      "std         0.496429       3.054220       0.985774       2.071148  \n",
      "min         0.000000       1.000000       1.000000       1.000000  \n",
      "25%         0.000000       6.000000       4.000000       5.000000  \n",
      "50%         0.000000       8.000000       5.000000       7.000000  \n",
      "75%         1.000000      10.000000       6.000000       8.000000  \n",
      "max         1.000000      13.000000       6.000000       8.000000  \n",
      "\n",
      "[8 rows x 22 columns]\n",
      "  HeartDisease    BMI Smoking AlcoholDrinking Stroke  PhysicalHealth  \\\n",
      "0           No  16.60     Yes              No     No             3.0   \n",
      "1           No  20.34      No              No    Yes             0.0   \n",
      "2           No  26.58     Yes              No     No            20.0   \n",
      "3           No  24.21      No              No     No             0.0   \n",
      "4           No  23.71      No              No     No            28.0   \n",
      "\n",
      "   MentalHealth DiffWalking     Sex  AgeCategory   Race Diabetic  \\\n",
      "0          30.0          No  Female        55-59  White      Yes   \n",
      "1           0.0          No  Female  80 or older  White       No   \n",
      "2          30.0          No    Male        65-69  White      Yes   \n",
      "3           0.0          No  Female        75-79  White       No   \n",
      "4           0.0         Yes  Female        40-44  White       No   \n",
      "\n",
      "  PhysicalActivity  GenHealth  SleepTime Asthma KidneyDisease SkinCancer  \n",
      "0              Yes  Very good        5.0    Yes            No        Yes  \n",
      "1              Yes  Very good        7.0     No            No         No  \n",
      "2              Yes       Fair        8.0    Yes            No         No  \n",
      "3               No       Good        6.0     No            No        Yes  \n",
      "4              Yes  Very good        8.0     No            No         No  \n",
      "<class 'pandas.core.frame.DataFrame'>\n",
      "RangeIndex: 319795 entries, 0 to 319794\n",
      "Data columns (total 18 columns):\n",
      " #   Column            Non-Null Count   Dtype  \n",
      "---  ------            --------------   -----  \n",
      " 0   HeartDisease      319795 non-null  object \n",
      " 1   BMI               319795 non-null  float64\n",
      " 2   Smoking           319795 non-null  object \n",
      " 3   AlcoholDrinking   319795 non-null  object \n",
      " 4   Stroke            319795 non-null  object \n",
      " 5   PhysicalHealth    319795 non-null  float64\n",
      " 6   MentalHealth      319795 non-null  float64\n",
      " 7   DiffWalking       319795 non-null  object \n",
      " 8   Sex               319795 non-null  object \n",
      " 9   AgeCategory       319795 non-null  object \n",
      " 10  Race              319795 non-null  object \n",
      " 11  Diabetic          319795 non-null  object \n",
      " 12  PhysicalActivity  319795 non-null  object \n",
      " 13  GenHealth         319795 non-null  object \n",
      " 14  SleepTime         319795 non-null  float64\n",
      " 15  Asthma            319795 non-null  object \n",
      " 16  KidneyDisease     319795 non-null  object \n",
      " 17  SkinCancer        319795 non-null  object \n",
      "dtypes: float64(4), object(14)\n",
      "memory usage: 43.9+ MB\n",
      "None\n",
      "                 BMI  PhysicalHealth   MentalHealth      SleepTime\n",
      "count  319795.000000    319795.00000  319795.000000  319795.000000\n",
      "mean       28.325399         3.37171       3.898366       7.097075\n",
      "std         6.356100         7.95085       7.955235       1.436007\n",
      "min        12.020000         0.00000       0.000000       1.000000\n",
      "25%        24.030000         0.00000       0.000000       6.000000\n",
      "50%        27.340000         0.00000       0.000000       7.000000\n",
      "75%        31.420000         2.00000       3.000000       8.000000\n",
      "max        94.850000        30.00000      30.000000      24.000000\n"
     ]
    }
   ],
   "source": [
    "print(df1.head())\n",
    "print(df1.info())\n",
    "print(df1.describe())\n",
    "\n",
    "print(df2.head())\n",
    "print(df2.info())\n",
    "print(df2.describe())"
   ]
  },
  {
   "cell_type": "code",
   "execution_count": 83,
   "id": "63d5e09e-3009-4580-a5d8-e002abd18ff2",
   "metadata": {},
   "outputs": [
    {
     "name": "stdout",
     "output_type": "stream",
     "text": [
      "Diabetes_012            0\n",
      "HighBP                  0\n",
      "HighChol                0\n",
      "CholCheck               0\n",
      "BMI                     0\n",
      "Smoker                  0\n",
      "Stroke                  0\n",
      "HeartDiseaseorAttack    0\n",
      "PhysActivity            0\n",
      "Fruits                  0\n",
      "Veggies                 0\n",
      "HvyAlcoholConsump       0\n",
      "AnyHealthcare           0\n",
      "NoDocbcCost             0\n",
      "GenHlth                 0\n",
      "MentHlth                0\n",
      "PhysHlth                0\n",
      "DiffWalk                0\n",
      "Sex                     0\n",
      "Age                     0\n",
      "Education               0\n",
      "Income                  0\n",
      "dtype: int64\n",
      "HeartDisease        0\n",
      "BMI                 0\n",
      "Smoking             0\n",
      "AlcoholDrinking     0\n",
      "Stroke              0\n",
      "PhysicalHealth      0\n",
      "MentalHealth        0\n",
      "DiffWalking         0\n",
      "Sex                 0\n",
      "AgeCategory         0\n",
      "Race                0\n",
      "Diabetic            0\n",
      "PhysicalActivity    0\n",
      "GenHealth           0\n",
      "SleepTime           0\n",
      "Asthma              0\n",
      "KidneyDisease       0\n",
      "SkinCancer          0\n",
      "dtype: int64\n"
     ]
    }
   ],
   "source": [
    "# checking missing values\n",
    "print(df1.isnull().sum())\n",
    "print(df2.isnull().sum())"
   ]
  },
  {
   "cell_type": "code",
   "execution_count": 84,
   "id": "c4f00490-323d-4623-af7a-4500e9cc78ba",
   "metadata": {},
   "outputs": [],
   "source": [
    "# Handle Missing Values\n",
    "# Both datasets are reported to have no missing values.\n",
    "\n",
    "# Schema matching\n",
    "# Renaming columns \n",
    "df1.rename(columns={'HvyAlcoholConsump':'AlcoholDrinking', 'Diabetes_012': 'Diabetic', 'HeartDiseaseorAttack': 'HeartDisease'}, inplace=True)\n",
    "df2.rename(columns={'AgeCategory': 'Age', 'Smoking': 'Smoker', 'PhysicalHealth': 'PhysHlth', 'MentalHealth': 'MentHlth', 'GenHealth': 'GenHlth', 'DiffWalking': 'DiffWalk', 'PhysicalActivity': 'PhysActivity'}, inplace=True)\n"
   ]
  },
  {
   "cell_type": "code",
   "execution_count": 85,
   "id": "e2fae848-c592-400f-b322-cc7d578aff7e",
   "metadata": {},
   "outputs": [],
   "source": [
    "# Convert Data Types\n",
    "# Convert binary variables to int (if not already)\n",
    "# List of columns to convert to int\n",
    "columns_to_convert_df1= df1.columns\n",
    "columns_to_convert_df2=['BMI','PhysHlth',  'MentHlth']\n",
    "# Convert each column in the list to int\n",
    "df1[columns_to_convert_df1] = df1[columns_to_convert_df1].astype(int)\n",
    "df2[columns_to_convert_df2] = df2[columns_to_convert_df2].astype(int)\n",
    "\n"
   ]
  },
  {
   "cell_type": "code",
   "execution_count": 86,
   "id": "265b8f74-36e3-49e6-b0e0-dd56ce79a15e",
   "metadata": {},
   "outputs": [],
   "source": [
    "df2['Diabetic'] = df2['Diabetic'].replace({'No, borderline diabetes': 'No'})\n",
    "df2['Diabetic'] = df2['Diabetic'].replace({'Yes (during pregnancy)': 'Yes'})\n",
    "yes_no_columns = ['HeartDisease','Smoker', 'AlcoholDrinking', 'DiffWalk', 'Diabetic', 'PhysActivity']\n",
    "\n",
    "# Automatically convert all columns with \"Yes\" and \"No\" values\n",
    "for column in df2.columns:\n",
    "    if set(df2[column].unique()) == {'Yes', 'No'}:\n",
    "        df2[column] = df2[column].map({'Yes': 1, 'No': 0})\n",
    "\n",
    "# Convert GenHlth to integers (poor/fair/good/very good/excellent -> 5/4/3/2/1)\n",
    "gen_health_mapping = {'Poor': 5, 'Fair': 4, 'Good': 3, 'Very good': 2, 'Excellent': 1}\n",
    "df2['GenHlth'] = df2['GenHlth'].map(gen_health_mapping)\n",
    "\n",
    "# Convert Sex to integers (0=female, 1=male)\n",
    "df2['Sex'] = df2['Sex'].map({'Female': 0, 'Male': 1})\n"
   ]
  },
  {
   "cell_type": "code",
   "execution_count": 87,
   "id": "d3434f70-c904-40a9-aa0a-399466ff03cb",
   "metadata": {},
   "outputs": [],
   "source": [
    "# Function to calculate the mean of age ranges\n",
    "def mean_of_range(age_range):\n",
    "    if age_range == '80 or older':\n",
    "        # Assuming 85 as the upper limit for the '80 or older' category\n",
    "        return 82.5\n",
    "    else:\n",
    "        # Split the range into a list of the lower and upper bounds, convert to integers, and calculate the mean\n",
    "        lower, upper = map(int, age_range.split('-'))\n",
    "        return (lower + upper) / 2\n",
    "\n",
    "# Apply the function to the Age column\n",
    "df2['Age'] = df2['Age'].apply(mean_of_range)\n",
    "df2['Age'] = df2['Age'].astype(int)"
   ]
  },
  {
   "cell_type": "code",
   "execution_count": 88,
   "id": "8ee9f769-180c-4353-b0fe-694573763995",
   "metadata": {},
   "outputs": [],
   "source": [
    "\n",
    "# # List of numerical columns to standardize (adjust as needed)\n",
    "# numerical_cols_df1 = ['BMI', 'GenHlth', 'MentHlth', 'PhysHlth', 'Age']\n",
    "# numerical_cols_df2 = ['BMI', 'GenHlth', 'PhysHlth', 'MentHlth', 'Age']  # Assuming GenHlth is not available\n",
    "\n",
    "# # Initialize the StandardScaler\n",
    "# scaler = StandardScaler()\n",
    "\n",
    "# # Standardize df1\n",
    "# df1[numerical_cols_df1] = scaler.fit_transform(df1[numerical_cols_df1])\n",
    "\n",
    "# # Standardize df2 - Reinitialize the scaler to avoid data leakage between df1 and df2\n",
    "# scaler = StandardScaler()\n",
    "# df2[numerical_cols_df2] = scaler.fit_transform(df2[numerical_cols_df2])\n"
   ]
  },
  {
   "cell_type": "code",
   "execution_count": 89,
   "id": "cad64109-36b8-4346-b4bd-19c54132e45f",
   "metadata": {},
   "outputs": [],
   "source": [
    "# Feature Selection\n",
    "columns_to_drop_df1 = ['AnyHealthcare', 'NoDocbcCost', 'Education', 'Income','CholCheck', 'Fruits', 'Veggies', 'Stroke','HighBP',  'HighChol']  # Replace 'Column1', 'Column2', etc. with actual column names from df1\n",
    "columns_to_drop_df2 = ['Race', 'KidneyDisease', 'SkinCancer', 'Stroke','SleepTime',  'Asthma']  # Replace 'Column3', 'Column4', etc. with actual column names from df2\n",
    "\n",
    "# Drop the specified columns from df1\n",
    "df1 = df1.drop(columns=columns_to_drop_df1)\n",
    "\n",
    "# Drop the specified columns from df2\n",
    "df2 = df2.drop(columns=columns_to_drop_df2)\n",
    "\n",
    "# Now df1 and df2 have the unwanted columns removed\n"
   ]
  },
  {
   "cell_type": "code",
   "execution_count": 90,
   "id": "58aa5b25-1dba-4666-8a02-7bf16193f89e",
   "metadata": {},
   "outputs": [
    {
     "name": "stdout",
     "output_type": "stream",
     "text": [
      "   Diabetic  BMI  Smoker  HeartDisease  PhysActivity  AlcoholDrinking  \\\n",
      "0         0   40       1             0             0                0   \n",
      "1         0   25       1             0             1                0   \n",
      "2         0   28       0             0             0                0   \n",
      "3         0   27       0             0             1                0   \n",
      "4         0   24       0             0             1                0   \n",
      "\n",
      "   GenHlth  MentHlth  PhysHlth  DiffWalk  Sex  Age  \n",
      "0        5        18        15         1    0    9  \n",
      "1        3         0         0         0    0    7  \n",
      "2        5        30        30         1    0    9  \n",
      "3        2         0         0         0    0   11  \n",
      "4        2         3         0         0    0   11  \n",
      "   HeartDisease  BMI  Smoker  AlcoholDrinking  PhysHlth  MentHlth  DiffWalk  \\\n",
      "0             0   16       1                0         3        30         0   \n",
      "1             0   20       0                0         0         0         0   \n",
      "2             0   26       1                0        20        30         0   \n",
      "3             0   24       0                0         0         0         0   \n",
      "4             0   23       0                0        28         0         1   \n",
      "\n",
      "   Sex  Age  Diabetic  PhysActivity  GenHlth  \n",
      "0    0   57         1             1        2  \n",
      "1    0   82         0             1        2  \n",
      "2    1   67         1             1        4  \n",
      "3    0   77         0             0        3  \n",
      "4    0   42         0             1        2  \n"
     ]
    }
   ],
   "source": [
    "print(df1.head())\n",
    "print(df2.head())"
   ]
  },
  {
   "cell_type": "code",
   "execution_count": 91,
   "id": "8dbe9a12-bcc7-4c47-bc6e-2f2a242f9046",
   "metadata": {},
   "outputs": [],
   "source": [
    "df1.to_csv('df1.csv', index=False)\n",
    "df2.to_csv('df2.csv', index=False)"
   ]
  },
  {
   "cell_type": "code",
   "execution_count": 92,
   "id": "3650d1e2-202e-4c99-98eb-ea5b9f4d0466",
   "metadata": {},
   "outputs": [
    {
     "name": "stdout",
     "output_type": "stream",
     "text": [
      "   Diabetic  HeartDisease  BMI  Sex  Age  Smoker  AlcoholDrinking  PhysHlth  \\\n",
      "0         0             0   40    0    9       1                0        15   \n",
      "1         0             0   25    0    7       1                0         0   \n",
      "2         0             0   28    0    9       0                0        30   \n",
      "3         0             0   27    0   11       0                0         0   \n",
      "4         0             0   24    0   11       0                0         0   \n",
      "\n",
      "   MentHlth  GenHlth  DiffWalk  PhysActivity  \n",
      "0        18        5         1             0  \n",
      "1         0        3         0             1  \n",
      "2        30        5         1             0  \n",
      "3         0        2         0             1  \n",
      "4         3        2         0             1  \n"
     ]
    }
   ],
   "source": [
    "\n",
    "# Assuming df1 and df2 are your DataFrames\n",
    "\n",
    "# Align the columns in df1 and df2 so they are in the same order\n",
    "common_cols = ['Diabetic', 'HeartDisease', 'BMI', 'Sex', 'Age', 'Smoker', 'AlcoholDrinking', 'PhysHlth', \n",
    "               'MentHlth', 'GenHlth', 'DiffWalk',  'PhysActivity']\n",
    "unique_cols_df1 = [col for col in df1.columns if col not in common_cols]\n",
    "unique_cols_df2 = [col for col in df2.columns if col not in common_cols]\n",
    "\n",
    "# Reorder df1 and df2 to have common columns first, then unique columns\n",
    "df1_reordered = df1[common_cols + unique_cols_df1]\n",
    "df2_reordered = df2[common_cols + unique_cols_df2]\n",
    "\n",
    "# Concatenate df1 and df2\n",
    "merged_df = pd.concat([df1_reordered, df2_reordered], axis=0, ignore_index=True, sort=False)\n",
    "\n",
    "print(merged_df.head())\n"
   ]
  },
  {
   "cell_type": "code",
   "execution_count": 93,
   "id": "4ee4e46a-148e-4ce5-9f2e-de2fa67dc9e7",
   "metadata": {},
   "outputs": [],
   "source": [
    "# Save the merged DataFrame to a new CSV file\n",
    "merged_df.to_csv('merged_dataset2.csv', index=False)"
   ]
  },
  {
   "cell_type": "code",
   "execution_count": 16,
   "id": "c993e872-2a5b-41da-bdfd-f6f611950f09",
   "metadata": {},
   "outputs": [
    {
     "name": "stdout",
     "output_type": "stream",
     "text": [
      "Index(['Diabetic', 'HeartDisease', 'BMI', 'Sex', 'Age', 'Smoker',\n",
      "       'AlcoholDrinking', 'Stroke', 'PhysHlth', 'MentHlth', 'GenHlth',\n",
      "       'DiffWalk', 'PhysActivity', 'HighBP', 'HighChol', 'CholCheck', 'Fruits',\n",
      "       'Veggies', 'SleepTime', 'Asthma'],\n",
      "      dtype='object')\n"
     ]
    }
   ],
   "source": [
    "print(merged_df.columns)\n"
   ]
  },
  {
   "cell_type": "code",
   "execution_count": 94,
   "id": "b4d2341a-5a21-4147-9a0c-4558ae16dcad",
   "metadata": {},
   "outputs": [
    {
     "name": "stdout",
     "output_type": "stream",
     "text": [
      "   Diabetic  HeartDisease       BMI  Sex       Age  Smoker  AlcoholDrinking  \\\n",
      "0         0             0  1.840433    0 -0.932038       1                0   \n",
      "1         0             0 -0.475032    0 -1.006755       1                0   \n",
      "2         0             0 -0.011939    0 -0.932038       0                0   \n",
      "3         0             0 -0.166303    0 -0.857321       0                0   \n",
      "4         0             0 -0.629396    0 -0.857321       0                0   \n",
      "\n",
      "   PhysHlth  MentHlth   GenHlth  DiffWalk  PhysActivity  \n",
      "0  1.352954  1.865562  2.413695         1             0  \n",
      "1 -0.452063 -0.463593  0.519080         0             1  \n",
      "2  3.157972  3.418332  2.413695         1             0  \n",
      "3 -0.452063 -0.463593 -0.428228         0             1  \n",
      "4 -0.452063 -0.075400 -0.428228         0             1  \n"
     ]
    }
   ],
   "source": [
    "df = pd.read_csv(\"merged.csv\")\n",
    "# Define the features you want to normalize\n",
    "features_to_normalize = ['BMI', 'Age', 'PhysHlth', 'MentHlth', 'GenHlth']\n",
    "\n",
    "# Instantiate the scaler\n",
    "scaler = StandardScaler()\n",
    "\n",
    "# Fit and transform the features\n",
    "df[features_to_normalize] = scaler.fit_transform(df[features_to_normalize])\n",
    "\n",
    "# Print the normalized DataFrame\n",
    "print(df.head())"
   ]
  },
  {
   "cell_type": "code",
   "execution_count": 95,
   "id": "275b1ccf-57c7-4c2f-8c88-fa92f779c8be",
   "metadata": {},
   "outputs": [],
   "source": [
    "df.to_csv('merged1.csv', index=False)"
   ]
  },
  {
   "cell_type": "code",
   "execution_count": 96,
   "id": "aede9787-ea8a-424a-af25-ad6c759dcee8",
   "metadata": {},
   "outputs": [
    {
     "name": "stdout",
     "output_type": "stream",
     "text": [
      "Index(['Diabetic', 'HeartDisease', 'BMI', 'Sex', 'Age', 'Smoker',\n",
      "       'AlcoholDrinking', 'PhysHlth', 'MentHlth', 'GenHlth', 'DiffWalk',\n",
      "       'PhysActivity'],\n",
      "      dtype='object')\n"
     ]
    }
   ],
   "source": [
    "print(df.columns)"
   ]
  },
  {
   "cell_type": "code",
   "execution_count": null,
   "id": "973721af-7fbe-41bb-8c79-413017a4d1ab",
   "metadata": {},
   "outputs": [],
   "source": []
  }
 ],
 "metadata": {
  "kernelspec": {
   "display_name": "Python 3 (ipykernel)",
   "language": "python",
   "name": "python3"
  },
  "language_info": {
   "codemirror_mode": {
    "name": "ipython",
    "version": 3
   },
   "file_extension": ".py",
   "mimetype": "text/x-python",
   "name": "python",
   "nbconvert_exporter": "python",
   "pygments_lexer": "ipython3",
   "version": "3.12.2"
  }
 },
 "nbformat": 4,
 "nbformat_minor": 5
}
